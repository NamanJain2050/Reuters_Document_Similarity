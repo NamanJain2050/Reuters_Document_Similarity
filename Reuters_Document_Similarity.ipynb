{
 "cells": [
  {
   "cell_type": "code",
   "execution_count": 1,
   "metadata": {},
   "outputs": [],
   "source": [
    "from bs4 import BeautifulSoup\n",
    "import os\n",
    "import re\n",
    "from nltk.util import ngrams\n",
    "\n",
    "import warnings\n",
    "warnings.filterwarnings('ignore')"
   ]
  },
  {
   "cell_type": "markdown",
   "metadata": {},
   "source": [
    "### Reading Data"
   ]
  },
  {
   "cell_type": "code",
   "execution_count": 2,
   "metadata": {},
   "outputs": [
    {
     "name": "stdout",
     "output_type": "stream",
     "text": [
      "We have 19043 documents\n",
      "Inco Ltd said it did not expect its\n",
      "earlier reported removal from the Dow Jones industrial index to\n",
      "make a major impact on the company's stock.\n",
      "    \"We don't think that individuals or institutions buy our\n",
      "shares because we were one of the Dow Jones industrials,\"\n",
      "spokesman Ken Cherney said in reply to a query.\n",
      "    Inco closed 1-3/8 lower at 19-3/8 in second most active\n",
      "trading on the Toronto Stock Exchange.\n",
      "    The Wall Street Journal, which selects the index, said Inco\n",
      "was dropped to make the index more representative of the\n",
      "market. Inco, the non-Communist world's largest nickel\n",
      "producer, was a member of the index since 1928.\n",
      "    Replacing Inco and Owens-Illinois Inc will be Coca-Cola Co\n",
      "and Boeing Co, effective tomorrow.\n",
      "    Nickel analyst Ilmar Martens at Walwyn Stodgell Cochran\n",
      "Murray Ltd said Inco's removal from the index would likely\n",
      "spark short-term selling pressure on the stock.\n",
      "    \"Some investors who have Inco may suddenly say, 'well,\n",
      "because it's not now a Dow stock, we should eliminate that\n",
      "investment,'\" said Martens, although he added the move was\n",
      "unlikely to have a serious long-term impact on Inco stock.\n",
      "    Inco has struggled in recent years against sharply lower\n",
      "nickel prices. Its net earnings fell to 200,000 U.S. dlrs in\n",
      "1986 from 52.2 mln dlrs the previous year.\n",
      " Reuter\n",
      "\u0003\n"
     ]
    }
   ],
   "source": [
    "documents = []\n",
    "for file in os.listdir(\"data/\"):\n",
    "    \n",
    "    if file.endswith(\".sgm\"):\n",
    "        \n",
    "        # for each sgm file, read it\n",
    "        filename = os.path.join(\"data\", file)\n",
    "        f = open(filename, 'r', encoding='utf-8', errors='ignore')\n",
    "        dataFile = f.read()\n",
    "        \n",
    "        # pass it to BeautifulSoup\n",
    "        soup = BeautifulSoup(dataFile, 'html.parser')\n",
    "        contents = soup.findAll('body')\n",
    "        \n",
    "        # for each body tag, extract it's text\n",
    "        for content in contents:\n",
    "            documents.append(content.text)\n",
    "print('We have {} documents'.format(len(documents)))\n",
    "print(documents[0])"
   ]
  },
  {
   "cell_type": "markdown",
   "metadata": {},
   "source": [
    "### Data Cleaning"
   ]
  },
  {
   "cell_type": "markdown",
   "metadata": {},
   "source": [
    "#### Remove all links"
   ]
  },
  {
   "cell_type": "code",
   "execution_count": 3,
   "metadata": {},
   "outputs": [],
   "source": [
    "def removeLinks(text):\n",
    "    text = re.sub(r'http\\S+', '', text, flags=re.MULTILINE)\n",
    "    return text\n",
    "\n",
    "documents = list(map(removeLinks, documents))"
   ]
  },
  {
   "cell_type": "markdown",
   "metadata": {},
   "source": [
    "#### Remove all HTML tags"
   ]
  },
  {
   "cell_type": "code",
   "execution_count": 4,
   "metadata": {},
   "outputs": [],
   "source": [
    "def removeHTMLTags(text):\n",
    "    text = re.sub(r'<.*?>', '', text, flags=re.MULTILINE)\n",
    "    return text\n",
    "\n",
    "documents = list(map(removeHTMLTags, documents))"
   ]
  },
  {
   "cell_type": "markdown",
   "metadata": {},
   "source": [
    "#### Decontract english words\n",
    "won't --> will not"
   ]
  },
  {
   "cell_type": "code",
   "execution_count": 5,
   "metadata": {},
   "outputs": [],
   "source": [
    "def decontracted(phrase):\n",
    "    # specific\n",
    "    phrase = re.sub(r\"won\\'t\", \"will not\", phrase)\n",
    "    phrase = re.sub(r\"can\\'t\", \"can not\", phrase)\n",
    "\n",
    "    # general\n",
    "    phrase = re.sub(r\"n\\'t\", \" not\", phrase)\n",
    "    phrase = re.sub(r\"\\'re\", \" are\", phrase)\n",
    "    phrase = re.sub(r\"\\'s\", \" is\", phrase)\n",
    "    phrase = re.sub(r\"\\'d\", \" would\", phrase)\n",
    "    phrase = re.sub(r\"\\'ll\", \" will\", phrase)\n",
    "    phrase = re.sub(r\"\\'t\", \" not\", phrase)\n",
    "    phrase = re.sub(r\"\\'ve\", \" have\", phrase)\n",
    "    phrase = re.sub(r\"\\'m\", \" am\", phrase)\n",
    "    return phrase\n",
    "\n",
    "documents = list(map(decontracted, documents))"
   ]
  },
  {
   "cell_type": "markdown",
   "metadata": {},
   "source": [
    "#### Convert to lower case"
   ]
  },
  {
   "cell_type": "code",
   "execution_count": 6,
   "metadata": {},
   "outputs": [],
   "source": [
    "def convertToLowerCase(text):\n",
    "    return text.lower()\n",
    "\n",
    "documents = list(map(convertToLowerCase, documents))"
   ]
  },
  {
   "cell_type": "markdown",
   "metadata": {},
   "source": [
    "#### Remove words with numbers"
   ]
  },
  {
   "cell_type": "code",
   "execution_count": 7,
   "metadata": {},
   "outputs": [],
   "source": [
    "def removeWordsWithNumbers(text):\n",
    "    return re.sub(r\"\\S*\\d\\S*\", \"\", text).strip()\n",
    "\n",
    "documents = list(map(removeWordsWithNumbers, documents))"
   ]
  },
  {
   "cell_type": "markdown",
   "metadata": {},
   "source": [
    "#### Remove Special Characters and Punctuations"
   ]
  },
  {
   "cell_type": "code",
   "execution_count": 8,
   "metadata": {},
   "outputs": [],
   "source": [
    "def removePuctuations(text):\n",
    "    return re.sub(r'[^A-Za-z0-9]+', ' ', text)\n",
    "\n",
    "documents = list(map(removePuctuations, documents))"
   ]
  },
  {
   "cell_type": "markdown",
   "metadata": {},
   "source": [
    "#### Remove whitespaces"
   ]
  },
  {
   "cell_type": "code",
   "execution_count": 9,
   "metadata": {},
   "outputs": [],
   "source": [
    "def removeWhiteSpaces(text):\n",
    "    return text.strip()\n",
    "\n",
    "documents = list(map(removeWhiteSpaces, documents))"
   ]
  },
  {
   "cell_type": "code",
   "execution_count": 10,
   "metadata": {},
   "outputs": [
    {
     "data": {
      "text/plain": [
       "'inco ltd said it did not expect its earlier reported removal from the dow jones industrial index to make a major impact on the company is stock we do not think that individuals or institutions buy our shares because we were one of the dow jones industrials spokesman ken cherney said in reply to a query inco closed lower at in second most active trading on the toronto stock exchange the wall street journal which selects the index said inco was dropped to make the index more representative of the market inco the non communist world is largest nickel producer was a member of the index since replacing inco and owens illinois inc will be coca cola co and boeing co effective tomorrow nickel analyst ilmar martens at walwyn stodgell cochran murray ltd said inco is removal from the index would likely spark short term selling pressure on the stock some investors who have inco may suddenly say well because it is not now a dow stock we should eliminate that investment said martens although he added the move was unlikely to have a serious long term impact on inco stock inco has struggled in recent years against sharply lower nickel prices its net earnings fell to u s dlrs in from mln dlrs the previous year reuter'"
      ]
     },
     "execution_count": 10,
     "metadata": {},
     "output_type": "execute_result"
    }
   ],
   "source": [
    "#after data cleaning steps\n",
    "documents[0]"
   ]
  },
  {
   "cell_type": "markdown",
   "metadata": {},
   "source": [
    "### Generating N-Grams"
   ]
  },
  {
   "cell_type": "code",
   "execution_count": 11,
   "metadata": {},
   "outputs": [],
   "source": [
    "def generateNGrams(n):\n",
    "    n_gram = []\n",
    "    for doc in documents:\n",
    "        tokens = [token for token in doc.split(\" \") if token != \"\"]\n",
    "        output = set(ngrams(tokens, n))\n",
    "        n_gram.append(output)\n",
    "    return n_gram"
   ]
  },
  {
   "cell_type": "code",
   "execution_count": 12,
   "metadata": {},
   "outputs": [
    {
     "name": "stdout",
     "output_type": "stream",
     "text": [
      "{('on', 'the'), ('added', 'the'), ('member', 'of'), ('index', 'more'), ('our', 'shares'), ('said', 'inco'), ('closed', 'lower'), ('the', 'toronto'), ('tomorrow', 'nickel'), ('a', 'dow'), ('net', 'earnings'), ('may', 'suddenly'), ('say', 'well'), ('stock', 'we'), ('unlikely', 'to'), ('index', 'since'), ('selling', 'pressure'), ('toronto', 'stock'), ('we', 'do'), ('one', 'of'), ('in', 'reply'), ('said', 'martens'), ('the', 'company'), ('and', 'boeing'), ('industrial', 'index'), ('stock', 'inco'), ('reported', 'removal'), ('inco', 'is'), ('impact', 'on'), ('inco', 'closed'), ('institutions', 'buy'), ('was', 'a'), ('cola', 'co'), ('query', 'inco'), ('that', 'investment'), ('jones', 'industrial'), ('in', 'from'), ('some', 'investors'), ('inco', 'ltd'), ('stodgell', 'cochran'), ('because', 'we'), ('a', 'member'), ('index', 'said'), ('most', 'active'), ('martens', 'although'), ('did', 'not'), ('more', 'representative'), ('company', 'is'), ('the', 'move'), ('individuals', 'or'), ('martens', 'at'), ('cochran', 'murray'), ('suddenly', 'say'), ('earlier', 'reported'), ('have', 'inco'), ('we', 'should'), ('at', 'walwyn'), ('dow', 'stock'), ('and', 'owens'), ('a', 'serious'), ('coca', 'cola'), ('from', 'the'), ('has', 'struggled'), ('nickel', 'producer'), ('active', 'trading'), ('representative', 'of'), ('who', 'have'), ('s', 'dlrs'), ('inco', 'and'), ('expect', 'its'), ('buy', 'our'), ('which', 'selects'), ('to', 'u'), ('co', 'and'), ('of', 'the'), ('because', 'it'), ('street', 'journal'), ('investment', 'said'), ('short', 'term'), ('is', 'removal'), ('ken', 'cherney'), ('investors', 'who'), ('the', 'wall'), ('inco', 'may'), ('wall', 'street'), ('nickel', 'analyst'), ('would', 'likely'), ('term', 'selling'), ('move', 'was'), ('the', 'index'), ('mln', 'dlrs'), ('its', 'net'), ('year', 'reuter'), ('the', 'non'), ('the', 'market'), ('he', 'added'), ('to', 'a'), ('murray', 'ltd'), ('a', 'major'), ('or', 'institutions'), ('dow', 'jones'), ('do', 'not'), ('replacing', 'inco'), ('although', 'he'), ('it', 'did'), ('make', 'a'), ('is', 'stock'), ('industrials', 'spokesman'), ('market', 'inco'), ('largest', 'nickel'), ('inco', 'was'), ('trading', 'on'), ('inco', 'the'), ('boeing', 'co'), ('to', 'have'), ('ltd', 'said'), ('in', 'recent'), ('that', 'individuals'), ('second', 'most'), ('likely', 'spark'), ('recent', 'years'), ('lower', 'at'), ('index', 'would'), ('dlrs', 'the'), ('removal', 'from'), ('think', 'that'), ('u', 's'), ('producer', 'was'), ('ilmar', 'martens'), ('spokesman', 'ken'), ('was', 'unlikely'), ('have', 'a'), ('make', 'the'), ('fell', 'to'), ('years', 'against'), ('non', 'communist'), ('index', 'to'), ('prices', 'its'), ('the', 'previous'), ('we', 'were'), ('pressure', 'on'), ('at', 'in'), ('inco', 'stock'), ('its', 'earlier'), ('jones', 'industrials'), ('inc', 'will'), ('sharply', 'lower'), ('cherney', 'said'), ('term', 'impact'), ('shares', 'because'), ('it', 'is'), ('will', 'be'), ('co', 'effective'), ('owens', 'illinois'), ('world', 'is'), ('illinois', 'inc'), ('nickel', 'prices'), ('is', 'largest'), ('from', 'mln'), ('exchange', 'the'), ('stock', 'some'), ('selects', 'the'), ('reply', 'to'), ('not', 'think'), ('well', 'because'), ('was', 'dropped'), ('were', 'one'), ('is', 'not'), ('inco', 'has'), ('long', 'term'), ('on', 'inco'), ('walwyn', 'stodgell'), ('not', 'now'), ('in', 'second'), ('spark', 'short'), ('communist', 'world'), ('previous', 'year'), ('said', 'it'), ('now', 'a'), ('the', 'dow'), ('major', 'impact'), ('effective', 'tomorrow'), ('should', 'eliminate'), ('earnings', 'fell'), ('serious', 'long'), ('to', 'make'), ('stock', 'exchange'), ('the', 'stock'), ('eliminate', 'that'), ('struggled', 'in'), ('said', 'in'), ('analyst', 'ilmar'), ('lower', 'nickel'), ('dropped', 'to'), ('dlrs', 'in'), ('be', 'coca'), ('since', 'replacing'), ('journal', 'which'), ('a', 'query'), ('against', 'sharply'), ('not', 'expect')}\n"
     ]
    }
   ],
   "source": [
    "n_gram = generateNGrams(2)\n",
    "print(n_gram[0])"
   ]
  },
  {
   "cell_type": "markdown",
   "metadata": {},
   "source": [
    "### Applying Jaccard Similarity"
   ]
  },
  {
   "cell_type": "code",
   "execution_count": 13,
   "metadata": {},
   "outputs": [],
   "source": [
    "def getSimilarityForDoc(docID, n):\n",
    "    \n",
    "    similarity_map_for_doc = {}\n",
    "    \n",
    "    #generating all the n_grams\n",
    "    n_gram = generateNGrams(n)\n",
    "    d1 = n_gram[docID]\n",
    "    \n",
    "    #applying Jaccard Similarity\n",
    "    for i in range(len(documents)):\n",
    "        if i != docID:\n",
    "            d2 = n_gram[i]\n",
    "            JS = len(d1.intersection(d2)) / (len(d1.union(d2)))\n",
    "            similarity_map_for_doc[i] = JS*100\n",
    "    \n",
    "    #extracting top 5 according to similarity\n",
    "    sorted_sim_map_for_doc = sorted(similarity_map_for_doc.items(), key=lambda x: x[1], reverse=True)\n",
    "    top_five_sim_docs = sorted_sim_map_for_doc[:5]\n",
    "    \n",
    "    return top_five_sim_docs"
   ]
  },
  {
   "cell_type": "code",
   "execution_count": 14,
   "metadata": {},
   "outputs": [
    {
     "data": {
      "text/plain": [
       "'the world bank said it has approved a mln dlr loan for india to help lessen that country is dependence on imported oil and spur development of its own petroleum resources the bank said the loan will be used to boost production by injecting gas in the partially depleted assam oil fields and to assist exploration in other areas including drilling exploratory wells the bank said the recipient of the loan will be oil india ltd oil which is the smaller of two public indian petroleum exploration and production companies reuter'"
      ]
     },
     "execution_count": 14,
     "metadata": {},
     "output_type": "execute_result"
    }
   ],
   "source": [
    "documents[543]"
   ]
  },
  {
   "cell_type": "code",
   "execution_count": 15,
   "metadata": {},
   "outputs": [
    {
     "data": {
      "text/plain": [
       "[(547, 96.42857142857143),\n",
       " (7074, 11.76470588235294),\n",
       " (18273, 10.416666666666668),\n",
       " (15921, 9.45945945945946),\n",
       " (15932, 9.45945945945946)]"
      ]
     },
     "execution_count": 15,
     "metadata": {},
     "output_type": "execute_result"
    }
   ],
   "source": [
    "res = getSimilarityForDoc(543, 2)\n",
    "res"
   ]
  },
  {
   "cell_type": "code",
   "execution_count": 16,
   "metadata": {},
   "outputs": [
    {
     "data": {
      "text/plain": [
       "'the world bank said it approved a mln dlr loan for india to help lessen that country is dependence on imported oil and spur development of its own petroleum resources the bank said the loan will be used to boost production by injecting gas in the partially depleted assam oil fields and to assist exploration in other areas including drilling exploratory wells the bank said the recipient of the loan will be oil india ltd oil which is the smaller of two public indian petroleum exploration and production companies reuter'"
      ]
     },
     "execution_count": 16,
     "metadata": {},
     "output_type": "execute_result"
    }
   ],
   "source": [
    "documents[547]"
   ]
  },
  {
   "cell_type": "code",
   "execution_count": null,
   "metadata": {},
   "outputs": [],
   "source": []
  }
 ],
 "metadata": {
  "kernelspec": {
   "display_name": "Python 3",
   "language": "python",
   "name": "python3"
  },
  "language_info": {
   "codemirror_mode": {
    "name": "ipython",
    "version": 3
   },
   "file_extension": ".py",
   "mimetype": "text/x-python",
   "name": "python",
   "nbconvert_exporter": "python",
   "pygments_lexer": "ipython3",
   "version": "3.6.5"
  }
 },
 "nbformat": 4,
 "nbformat_minor": 2
}
